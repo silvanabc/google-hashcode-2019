{
 "cells": [
  {
   "cell_type": "code",
   "execution_count": 4,
   "metadata": {
    "collapsed": true
   },
   "outputs": [],
   "source": [
    "def loadDataSet(datasetSrc = \"a_example.txt\" ):\n",
    "    f = open(datasetSrc, \"r\")\n",
    "    first = True\n",
    "    array = []\n",
    "    frequencies = {}\n",
    "    for idx, x in enumerate(f):\n",
    "        if(first):\n",
    "            N = int(x.strip())\n",
    "            first = False\n",
    "        else :\n",
    "            aux = x.strip().split(\" \")\n",
    "            dic = {}\n",
    "            dic['isVertical'] = (aux[0] == 'V');\n",
    "            dic['qtt'] = aux[1];\n",
    "            dic['tags'] = aux[2:]\n",
    "            dic['tagsSize'] = len(aux[2:])\n",
    "            dic['index'] = idx - 1\n",
    "            array.append(dic)\n",
    "            freq = {}\n",
    "    return array"
   ]
  },
  {
   "cell_type": "code",
   "execution_count": null,
   "metadata": {
    "collapsed": true
   },
   "outputs": [],
   "source": [
    "# def update_frequency(freq, item, index):\n",
    "#     if freq[item]:\n",
    "        \n",
    "#     else:\n",
    "        \n",
    "#     freq[item]['count'] += freq[item]['count'] or 0  \n",
    "    "
   ]
  },
  {
   "cell_type": "code",
   "execution_count": 5,
   "metadata": {
    "collapsed": true
   },
   "outputs": [],
   "source": [
    "def main(src): \n",
    "    pics = loadDataSet(src)\n",
    "    pictures = []\n",
    "    temp = None\n",
    "    for pic in pics:\n",
    "        if(pic['isVertical'] == True):\n",
    "            pic\n",
    "            if temp:\n",
    "                tags = temp['tags'] + pic['tags']\n",
    "                tags = list(set(tags))\n",
    "                size = len(tags)\n",
    "                strIndex = str(temp['index']) + \" \" + str(pic['index'])\n",
    "                pictures.append({'index': strIndex, 'qtt': size, 'tags':tags, 'tagsSize': len(tags)})\n",
    "                temp = None\n",
    "            else: \n",
    "                temp = pic\n",
    "        else:\n",
    "            pictures.append(pic)\n",
    "    pictures = sort_by_tags(pictures)\n",
    "    pictures = greedy(pictures)\n",
    "    generate_output(pictures, src )"
   ]
  },
  {
   "cell_type": "code",
   "execution_count": 2,
   "metadata": {
    "collapsed": true
   },
   "outputs": [],
   "source": [
    "def greedy(pictures):\n",
    "    final = []\n",
    "    best = 0\n",
    "\n",
    "    final.append(pictures[0])\n",
    "    pictures.remove(pictures[0])\n",
    "    while len(pictures)>0:\n",
    "        best = 0\n",
    "        root = False\n",
    "        for i in range(min(len(pictures), 1000)):\n",
    "            current = check_score(final[-1],pictures[i])\n",
    "            if current>best:\n",
    "                best = current\n",
    "                elem = pictures[i]\n",
    "                root = True\n",
    "        if root:\n",
    "            final.append(elem)\n",
    "            pictures.remove(elem)\n",
    "        else:\n",
    "            pop = pictures.pop()\n",
    "            final.append(pop)\n",
    "    return final\n",
    "    "
   ]
  },
  {
   "cell_type": "code",
   "execution_count": 6,
   "metadata": {
    "collapsed": true
   },
   "outputs": [],
   "source": [
    "def sort_by_tags(pictures):\n",
    "    return sorted(pictures, key=lambda k: k['tagsSize'], reverse=True) "
   ]
  },
  {
   "cell_type": "code",
   "execution_count": 7,
   "metadata": {},
   "outputs": [
    {
     "ename": "NameError",
     "evalue": "name 'pictures' is not defined",
     "output_type": "error",
     "traceback": [
      "\u001b[0;31m---------------------------------------------------------------------------\u001b[0m",
      "\u001b[0;31mNameError\u001b[0m                                 Traceback (most recent call last)",
      "\u001b[0;32m<ipython-input-7-fa4b966255b6>\u001b[0m in \u001b[0;36m<module>\u001b[0;34m()\u001b[0m\n\u001b[0;32m----> 1\u001b[0;31m \u001b[0mpictures\u001b[0m\u001b[0;34m\u001b[0m\u001b[0m\n\u001b[0m",
      "\u001b[0;31mNameError\u001b[0m: name 'pictures' is not defined"
     ]
    }
   ],
   "source": [
    "pictures"
   ]
  },
  {
   "cell_type": "code",
   "execution_count": 8,
   "metadata": {},
   "outputs": [
    {
     "ename": "NameError",
     "evalue": "name 'check_score' is not defined",
     "output_type": "error",
     "traceback": [
      "\u001b[0;31m---------------------------------------------------------------------------\u001b[0m",
      "\u001b[0;31mNameError\u001b[0m                                 Traceback (most recent call last)",
      "\u001b[0;32m<ipython-input-8-810067e9a7e5>\u001b[0m in \u001b[0;36m<module>\u001b[0;34m()\u001b[0m\n\u001b[0;32m----> 1\u001b[0;31m \u001b[0mmain\u001b[0m\u001b[0;34m(\u001b[0m\u001b[0;34m\"e_shiny_selfies.txt\"\u001b[0m\u001b[0;34m)\u001b[0m\u001b[0;34m\u001b[0m\u001b[0m\n\u001b[0m",
      "\u001b[0;32m<ipython-input-5-b3063bd6d2b5>\u001b[0m in \u001b[0;36mmain\u001b[0;34m(src)\u001b[0m\n\u001b[1;32m     18\u001b[0m             \u001b[0mpictures\u001b[0m\u001b[0;34m.\u001b[0m\u001b[0mappend\u001b[0m\u001b[0;34m(\u001b[0m\u001b[0mpic\u001b[0m\u001b[0;34m)\u001b[0m\u001b[0;34m\u001b[0m\u001b[0m\n\u001b[1;32m     19\u001b[0m     \u001b[0mpictures\u001b[0m \u001b[0;34m=\u001b[0m \u001b[0msort_by_tags\u001b[0m\u001b[0;34m(\u001b[0m\u001b[0mpictures\u001b[0m\u001b[0;34m)\u001b[0m\u001b[0;34m\u001b[0m\u001b[0m\n\u001b[0;32m---> 20\u001b[0;31m     \u001b[0mpictures\u001b[0m \u001b[0;34m=\u001b[0m \u001b[0mgreedy\u001b[0m\u001b[0;34m(\u001b[0m\u001b[0mpictures\u001b[0m\u001b[0;34m)\u001b[0m\u001b[0;34m\u001b[0m\u001b[0m\n\u001b[0m\u001b[1;32m     21\u001b[0m     \u001b[0mgenerate_output\u001b[0m\u001b[0;34m(\u001b[0m\u001b[0mpictures\u001b[0m\u001b[0;34m,\u001b[0m \u001b[0msrc\u001b[0m \u001b[0;34m)\u001b[0m\u001b[0;34m\u001b[0m\u001b[0m\n",
      "\u001b[0;32m<ipython-input-2-aa32b1c5028d>\u001b[0m in \u001b[0;36mgreedy\u001b[0;34m(pictures)\u001b[0m\n\u001b[1;32m      9\u001b[0m         \u001b[0mroot\u001b[0m \u001b[0;34m=\u001b[0m \u001b[0;32mFalse\u001b[0m\u001b[0;34m\u001b[0m\u001b[0m\n\u001b[1;32m     10\u001b[0m         \u001b[0;32mfor\u001b[0m \u001b[0mi\u001b[0m \u001b[0;32min\u001b[0m \u001b[0mrange\u001b[0m\u001b[0;34m(\u001b[0m\u001b[0mmin\u001b[0m\u001b[0;34m(\u001b[0m\u001b[0mlen\u001b[0m\u001b[0;34m(\u001b[0m\u001b[0mpictures\u001b[0m\u001b[0;34m)\u001b[0m\u001b[0;34m,\u001b[0m \u001b[0;36m1000\u001b[0m\u001b[0;34m)\u001b[0m\u001b[0;34m)\u001b[0m\u001b[0;34m:\u001b[0m\u001b[0;34m\u001b[0m\u001b[0m\n\u001b[0;32m---> 11\u001b[0;31m             \u001b[0mcurrent\u001b[0m \u001b[0;34m=\u001b[0m \u001b[0mcheck_score\u001b[0m\u001b[0;34m(\u001b[0m\u001b[0mfinal\u001b[0m\u001b[0;34m[\u001b[0m\u001b[0;34m-\u001b[0m\u001b[0;36m1\u001b[0m\u001b[0;34m]\u001b[0m\u001b[0;34m,\u001b[0m\u001b[0mpictures\u001b[0m\u001b[0;34m[\u001b[0m\u001b[0mi\u001b[0m\u001b[0;34m]\u001b[0m\u001b[0;34m)\u001b[0m\u001b[0;34m\u001b[0m\u001b[0m\n\u001b[0m\u001b[1;32m     12\u001b[0m             \u001b[0;32mif\u001b[0m \u001b[0mcurrent\u001b[0m\u001b[0;34m>\u001b[0m\u001b[0mbest\u001b[0m\u001b[0;34m:\u001b[0m\u001b[0;34m\u001b[0m\u001b[0m\n\u001b[1;32m     13\u001b[0m                 \u001b[0mbest\u001b[0m \u001b[0;34m=\u001b[0m \u001b[0mcurrent\u001b[0m\u001b[0;34m\u001b[0m\u001b[0m\n",
      "\u001b[0;31mNameError\u001b[0m: name 'check_score' is not defined"
     ]
    }
   ],
   "source": [
    "main(\"e_shiny_selfies.txt\")"
   ]
  },
  {
   "cell_type": "code",
   "execution_count": 9,
   "metadata": {
    "collapsed": true
   },
   "outputs": [],
   "source": [
    "def generate_output(pictures, src):\n",
    "    with open(\"results\" + src, \"w\") as f:\n",
    "        f.write(str(len(pictures)) + '\\n')\n",
    "        for pic in pictures:\n",
    "            f.write(str(pic['index']) + '\\n')\n"
   ]
  },
  {
   "cell_type": "code",
   "execution_count": 12,
   "metadata": {},
   "outputs": [],
   "source": [
    "for i in ['a_example.txt', 'b_lovely_landscapes.txt', \n",
    "          'c_memorable_moments.txt', 'd_pet_pictures.txt', 'e_shiny_selfies.txt']:\n",
    "    main(i)\n"
   ]
  },
  {
   "cell_type": "code",
   "execution_count": 10,
   "metadata": {
    "collapsed": true
   },
   "outputs": [],
   "source": [
    "def check_score(p1, p2):\n",
    "    f = set(p1['tags'])\n",
    "    s = set(p2['tags'])\n",
    "    a = len(f - s)\n",
    "    b = len(s - f)\n",
    "    c = len(f & s)\n",
    "    return min(a, b, c)\n"
   ]
  },
  {
   "cell_type": "code",
   "execution_count": 11,
   "metadata": {
    "collapsed": true
   },
   "outputs": [],
   "source": [
    "def check(pictures):\n",
    "    somme = 0\n",
    "    for i in range(len(pictures)-1):\n",
    "        somme += check_score(pictures[i], pictures[i+1])\n",
    "    print(somme)\n",
    "    return \"some:\" + str(somme)"
   ]
  },
  {
   "cell_type": "code",
   "execution_count": null,
   "metadata": {
    "collapsed": true
   },
   "outputs": [],
   "source": []
  }
 ],
 "metadata": {
  "kernelspec": {
   "display_name": "Python 3",
   "language": "python",
   "name": "python3"
  },
  "language_info": {
   "codemirror_mode": {
    "name": "ipython",
    "version": 3
   },
   "file_extension": ".py",
   "mimetype": "text/x-python",
   "name": "python",
   "nbconvert_exporter": "python",
   "pygments_lexer": "ipython3",
   "version": "3.6.3"
  }
 },
 "nbformat": 4,
 "nbformat_minor": 2
}
