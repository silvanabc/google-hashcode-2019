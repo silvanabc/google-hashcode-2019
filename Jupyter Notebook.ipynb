{
 "cells": [
  {
   "cell_type": "markdown",
   "metadata": {},
   "source": [
    "# Google Hash Code 2019"
   ]
  },
  {
   "cell_type": "markdown",
   "metadata": {},
   "source": [
    "#### Solution by:\n",
    "3. Dimitra Tsigkari\n",
    "2. Guilherme Iecker\n",
    "1. Silvana Barboza\n",
    "4. Vitalli\n"
   ]
  },
  {
   "cell_type": "markdown",
   "metadata": {},
   "source": [
    "### Input"
   ]
  },
  {
   "cell_type": "code",
   "execution_count": 1,
   "metadata": {
    "collapsed": true
   },
   "outputs": [],
   "source": [
    "def update_frequency(freq, tagIndex, item, index):\n",
    "    for tag in item['tags']:\n",
    "        if (tag in freq):\n",
    "            freq[tag] += 1\n",
    "            tagIndex[tag].append(index)\n",
    "        else:\n",
    "            freq[tag] = 1\n",
    "            tagIndex[tag] = [index]"
   ]
  },
  {
   "cell_type": "code",
   "execution_count": 2,
   "metadata": {},
   "outputs": [],
   "source": [
    "freq = {} \n",
    "tagIndex = {}\n",
    "\n",
    "def loadDataSet(datasetSrc = \"a_example.txt\" ):\n",
    "    f = open(datasetSrc, \"r\")\n",
    "    first = True\n",
    "    array = []\n",
    "    for idx, x in enumerate(f):\n",
    "        if(first):\n",
    "            N = int(x.strip())\n",
    "            first = False\n",
    "        else :\n",
    "            aux = x.strip().split(\" \")\n",
    "            dic = {}\n",
    "            dic['isVertical'] = (aux[0] == 'V');\n",
    "            dic['qtt'] = aux[1];\n",
    "            dic['tags'] = aux[2:]\n",
    "            dic['tagsSize'] = len(aux[2:])\n",
    "            dic['index'] = idx - 1\n",
    "            array.append(dic)\n",
    "            update_frequency(freq, tagIndex, dic, idx)\n",
    "#             freq = sorted(freq.items(), key=lambda kv: kv[1], reverse=True)\n",
    "    return array"
   ]
  },
  {
   "cell_type": "markdown",
   "metadata": {},
   "source": [
    "### Output"
   ]
  },
  {
   "cell_type": "code",
   "execution_count": 3,
   "metadata": {
    "collapsed": true
   },
   "outputs": [],
   "source": [
    "def generate_output(pictures, src):\n",
    "    with open(\"results\" + src, \"w\") as f:\n",
    "        f.write(str(len(pictures)) + '\\n')\n",
    "        for pic in pictures:\n",
    "            f.write(str(pic['index']) + '\\n')"
   ]
  },
  {
   "cell_type": "markdown",
   "metadata": {},
   "source": [
    "### Solution"
   ]
  },
  {
   "cell_type": "code",
   "execution_count": 4,
   "metadata": {
    "collapsed": true
   },
   "outputs": [],
   "source": [
    "def check_score(p1, p2):\n",
    "    f = set(p1['tags'])\n",
    "    s = set(p2['tags'])\n",
    "    a = len(f - s)\n",
    "    b = len(s - f)\n",
    "    c = len(f & s)\n",
    "    return min(a, b, c)"
   ]
  },
  {
   "cell_type": "code",
   "execution_count": 5,
   "metadata": {
    "collapsed": true
   },
   "outputs": [],
   "source": [
    "def greedy(pictures):\n",
    "    final = []\n",
    "    best = 0\n",
    "\n",
    "    final.append(pictures[0])\n",
    "    pictures.remove(pictures[0])\n",
    "    while len(pictures)>0:\n",
    "        best = 0\n",
    "        root = False\n",
    "        for i in range(min(len(pictures), 50)):\n",
    "            current = check_score(final[-1],pictures[i])\n",
    "            if current>best:\n",
    "                best = current\n",
    "                elem = pictures[i]\n",
    "                root = True\n",
    "        if root:\n",
    "            final.append(elem)\n",
    "            pictures.remove(elem)\n",
    "        else:\n",
    "            pop = pictures.pop()\n",
    "            final.append(pop)\n",
    "    return final\n",
    "    "
   ]
  },
  {
   "cell_type": "code",
   "execution_count": 6,
   "metadata": {
    "collapsed": true
   },
   "outputs": [],
   "source": [
    "def joinVerticalImgs(pics):\n",
    "    pictures = []\n",
    "    for pic in pics:\n",
    "        if(pic['isVertical'] == True):\n",
    "            if temp:\n",
    "                tags = temp['tags'] + pic['tags']\n",
    "                tags = list(set(tags))\n",
    "                size = len(tags)\n",
    "                strIndex = str(temp['index']) + \" \" + str(pic['index'])\n",
    "                pictures.append({'index': strIndex, 'qtt': size, 'tags':tags, 'tagsSize': len(tags)})\n",
    "                temp = None\n",
    "            else: \n",
    "                temp = pic\n",
    "        else:\n",
    "            pictures.append(pic)\n",
    "            \n",
    "    "
   ]
  },
  {
   "cell_type": "code",
   "execution_count": 7,
   "metadata": {
    "collapsed": true
   },
   "outputs": [],
   "source": [
    "def main(src): \n",
    "    pics = loadDataSet(src)\n",
    "    pictures = []\n",
    "    temp = None\n",
    "    for pic in pics:\n",
    "        if(pic['isVertical'] == True):\n",
    "            pic\n",
    "            if temp:\n",
    "                tags = temp['tags'] + pic['tags']\n",
    "                tags = list(set(tags))\n",
    "                size = len(tags)\n",
    "                strIndex = str(temp['index']) + \" \" + str(pic['index'])\n",
    "                pictures.append({'index': strIndex, 'qtt': size, 'tags':tags, 'tagsSize': len(tags)})\n",
    "                temp = None\n",
    "            else: \n",
    "                temp = pic\n",
    "        else:\n",
    "            pictures.append(pic)\n",
    "    pictures = sorted(pictures, key=lambda k: k['tagsSize'], reverse=True) #sort by tag size\n",
    "    pictures = greedy(pictures)\n",
    "    generate_output(pictures, src )"
   ]
  },
  {
   "cell_type": "code",
   "execution_count": 8,
   "metadata": {},
   "outputs": [
    {
     "name": "stdout",
     "output_type": "stream",
     "text": [
      "Genererating result 0: a_example.txt\n",
      "Genererating result 1: b_lovely_landscapes.txt\n",
      "Genererating result 2: c_memorable_moments.txt\n",
      "Genererating result 3: d_pet_pictures.txt\n",
      "Genererating result 4: e_shiny_selfies.txt\n"
     ]
    }
   ],
   "source": [
    "#Generating results\n",
    "files = [\n",
    "    'a_example.txt', \n",
    "    'b_lovely_landscapes.txt', \n",
    "    'c_memorable_moments.txt', \n",
    "    'd_pet_pictures.txt', \n",
    "    'e_shiny_selfies.txt'\n",
    "]\n",
    "\n",
    "for idx, txt in enumerate(files):\n",
    "    print(\"Genererating result \" + str(idx) + \": \" + txt)\n",
    "    main(txt)"
   ]
  },
  {
   "cell_type": "code",
   "execution_count": 119,
   "metadata": {
    "collapsed": true
   },
   "outputs": [],
   "source": [
    "def check(pictures):\n",
    "    somme = 0\n",
    "    for i in range(len(pictures)-1):\n",
    "        somme += check_score(pictures[i], pictures[i+1])\n",
    "    print(somme)\n",
    "    return \"some:\" + str(somme)"
   ]
  }
 ],
 "metadata": {
  "kernelspec": {
   "display_name": "Python 3",
   "language": "python",
   "name": "python3"
  },
  "language_info": {
   "codemirror_mode": {
    "name": "ipython",
    "version": 3
   },
   "file_extension": ".py",
   "mimetype": "text/x-python",
   "name": "python",
   "nbconvert_exporter": "python",
   "pygments_lexer": "ipython3",
   "version": "3.6.3"
  }
 },
 "nbformat": 4,
 "nbformat_minor": 2
}
